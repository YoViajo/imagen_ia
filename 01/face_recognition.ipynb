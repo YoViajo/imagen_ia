{
 "cells": [
  {
   "cell_type": "code",
   "execution_count": 1,
   "metadata": {},
   "outputs": [],
   "source": [
    "import face_recognition"
   ]
  },
  {
   "cell_type": "code",
   "execution_count": 11,
   "metadata": {},
   "outputs": [],
   "source": [
    "knownimage=face_recognition.load_image_file(\"/home/yoviajo/Documentos/lab/proy/img_ia/95/img/conocido/yo 2022feb sinfondo.PNG\")\n",
    "unknownimage=face_recognition.load_image_file(\"/home/yoviajo/Documentos/lab/proy/img_ia/95/img/desconocido/_DSC0003 _lm.jpg\")"
   ]
  },
  {
   "cell_type": "code",
   "execution_count": 12,
   "metadata": {},
   "outputs": [],
   "source": [
    "knowencoding=face_recognition.face_encodings(knownimage)[0]\n",
    "unknownencoding=face_recognition.face_encodings(unknownimage)[0]"
   ]
  },
  {
   "cell_type": "code",
   "execution_count": 13,
   "metadata": {},
   "outputs": [
    {
     "name": "stdout",
     "output_type": "stream",
     "text": [
      "Image Mismatched\n"
     ]
    }
   ],
   "source": [
    "results=face_recognition.compare_faces([knowencoding],unknownencoding)\n",
    "if results[0]==True:\n",
    "   print(\"Image Matched Successfully\")\n",
    "else:\n",
    "   print(\"Image Mismatched\")"
   ]
  }
 ],
 "metadata": {
  "kernelspec": {
   "display_name": "img_reco",
   "language": "python",
   "name": "python3"
  },
  "language_info": {
   "codemirror_mode": {
    "name": "ipython",
    "version": 3
   },
   "file_extension": ".py",
   "mimetype": "text/x-python",
   "name": "python",
   "nbconvert_exporter": "python",
   "pygments_lexer": "ipython3",
   "version": "3.11.0"
  },
  "orig_nbformat": 4,
  "vscode": {
   "interpreter": {
    "hash": "b171daf7237a10aa46e9f1676b7a3b6c79677f9c6cba4fbfed44cf38f08f5bb8"
   }
  }
 },
 "nbformat": 4,
 "nbformat_minor": 2
}
